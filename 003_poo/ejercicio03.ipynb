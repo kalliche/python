{
 "cells": [
  {
   "cell_type": "markdown",
   "metadata": {},
   "source": [
    "Crear juego de fusion\n",
    "El juego consiste en crear personajes un juego y que esos personajes se puedan fusionar para formar personajes máß poderosos que tengan mas poder.\n",
    "Para ello debemos cambiar el comportamiento del operador '+' para que cuando los personajews se fusionen, salga un nuevo personaje con habilidadas mejoradas.\n",
    "Una posible formula es: el promedio de las habilidades de ambos, al cuadrado"
   ]
  },
  {
   "cell_type": "code",
   "execution_count": 2,
   "metadata": {},
   "outputs": [
    {
     "name": "stdout",
     "output_type": "stream",
     "text": [
      "Goku-Vegueta (Fuerza: 9900, velocidad: 9900)\n",
      "Goku-Vegueta-Jiren (Fuerza: 25150225, velocidad: 25200400)\n"
     ]
    }
   ],
   "source": [
    "class Personaje:\n",
    "    def __init__(self,nombre,fuerza,velocidad):\n",
    "        self.nombre = nombre\n",
    "        self.fuerza = fuerza\n",
    "        self.velocidad = velocidad\n",
    "\n",
    "    def __repr__(self) -> str:\n",
    "        return f'{self.nombre} (Fuerza: {self.fuerza}, velocidad: {self.velocidad})'\n",
    "\n",
    "    def __add__(self,otro_pj):\n",
    "        nuevo_nombre = self.nombre + \"-\" + otro_pj.nombre\n",
    "        nueva_fuerza = round(((self.fuerza + otro_pj.fuerza)/2)**2)\n",
    "        nueva_velocidad = round(((self.velocidad + otro_pj.velocidad)/2)**2)\n",
    "        return Personaje(nuevo_nombre,nueva_fuerza,nueva_velocidad)\n",
    "\n",
    "goku = Personaje('Goku',100,100)\n",
    "vugeta = Personaje('Vegueta',99,99)\n",
    "jiren = Personaje('Jiren',130,140)\n",
    "\n",
    "gogeta = goku + vugeta\n",
    "print(gogeta)\n",
    "\n",
    "jireta = gogeta + jiren\n",
    "print(jireta)"
   ]
  }
 ],
 "metadata": {
  "kernelspec": {
   "display_name": "env",
   "language": "python",
   "name": "python3"
  },
  "language_info": {
   "codemirror_mode": {
    "name": "ipython",
    "version": 3
   },
   "file_extension": ".py",
   "mimetype": "text/x-python",
   "name": "python",
   "nbconvert_exporter": "python",
   "pygments_lexer": "ipython3",
   "version": "3.11.4"
  },
  "orig_nbformat": 4
 },
 "nbformat": 4,
 "nbformat_minor": 2
}
