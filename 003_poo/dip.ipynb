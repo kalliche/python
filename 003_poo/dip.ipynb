{
 "cells": [
  {
   "cell_type": "markdown",
   "metadata": {},
   "source": [
    "Dependency inversion principle"
   ]
  },
  {
   "cell_type": "code",
   "execution_count": null,
   "metadata": {},
   "outputs": [],
   "source": [
    "from abc import ABC, abstractmethod\n",
    "\n",
    "class VerificadorOrtografico(ABC):\n",
    "    @abstractmethod\n",
    "    def verificar_palabra(self, palabra):\n",
    "        pass\n",
    "\n",
    "class Diccionario(VerificadorOrtografico):\n",
    "    def verificar_palabra(self, palabra):\n",
    "        # logica para verificar palabra\n",
    "        pass\n",
    "\n",
    "class ServicioOnline(VerificadorOrtografico):\n",
    "    def verificar_palabra(self, palabra):\n",
    "        # logica para verificar palabra desde el servicio web\n",
    "        pass\n",
    "\n",
    "class CorrectorOrtografico:\n",
    "    def __init__(self, verificador):\n",
    "        self.verificador = verificador\n",
    "\n",
    "    def corregir_texto(self, texto):\n",
    "        #usamos el verificador para corregir texto\n",
    "        pass"
   ]
  }
 ],
 "metadata": {
  "language_info": {
   "name": "python"
  },
  "orig_nbformat": 4
 },
 "nbformat": 4,
 "nbformat_minor": 2
}
