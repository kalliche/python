{
 "cells": [
  {
   "cell_type": "code",
   "execution_count": 1,
   "metadata": {},
   "outputs": [
    {
     "name": "stdout",
     "output_type": "stream",
     "text": [
      "None\n",
      "Has movido el auto exitosamente\n",
      "None\n",
      "None\n",
      "Has movido el auto exitosamente\n",
      "None\n",
      "None\n",
      "Has movido el auto exitosamente\n",
      "None\n",
      "None\n",
      "Has movido el auto exitosamente\n",
      "None\n"
     ]
    }
   ],
   "source": [
    "class Auto():\n",
    "    def __init__(self,tanque) -> None:\n",
    "        self.posicion = 0\n",
    "        self.tanque = tanque\n",
    "\n",
    "    def mover(self, distancia):\n",
    "        if self.tanque.obtener_combustible() >= distancia / 2:\n",
    "            self.posicion += distancia\n",
    "            self.tanque.usar_combustible(distancia / 2)\n",
    "            print('Has movido el auto exitosamente')\n",
    "        else:\n",
    "            print('No hay suficiente combustible')\n",
    "\n",
    "    def obtener_posicion(self):\n",
    "        def __init__(self):\n",
    "            self.posicion\n",
    "\n",
    "class TanqueDeCombustible:\n",
    "    def __init__(self) -> None:\n",
    "        self.combustible = 100\n",
    "\n",
    "    def agregar_combustible(self,cantidad):\n",
    "        self.cantidad += cantidad\n",
    "\n",
    "    def obtener_combustible(self):\n",
    "        return self.combustible\n",
    "\n",
    "    def usar_combustible(self,cantidad):\n",
    "        self.combustible -= cantidad\n",
    "\n",
    "tanque = TanqueDeCombustible()\n",
    "autico = Auto(tanque)\n",
    "\n",
    "print(autico.obtener_posicion())\n",
    "print(autico.mover(10))\n",
    "print(autico.obtener_posicion())\n",
    "print(autico.mover(20))\n",
    "print(autico.obtener_posicion())\n",
    "print(autico.mover(30))\n",
    "print(autico.obtener_posicion())\n",
    "print(autico.mover(100))"
   ]
  }
 ],
 "metadata": {
  "kernelspec": {
   "display_name": "env",
   "language": "python",
   "name": "python3"
  },
  "language_info": {
   "codemirror_mode": {
    "name": "ipython",
    "version": 3
   },
   "file_extension": ".py",
   "mimetype": "text/x-python",
   "name": "python",
   "nbconvert_exporter": "python",
   "pygments_lexer": "ipython3",
   "version": "3.11.4"
  },
  "orig_nbformat": 4
 },
 "nbformat": 4,
 "nbformat_minor": 2
}
