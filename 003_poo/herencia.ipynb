{
 "cells": [
  {
   "cell_type": "markdown",
   "metadata": {},
   "source": [
    "Herencia simple"
   ]
  },
  {
   "cell_type": "code",
   "execution_count": 8,
   "metadata": {},
   "outputs": [
    {
     "name": "stdout",
     "output_type": "stream",
     "text": [
      "colombiano\n",
      "43\n",
      "Roberto\n",
      "20000\n",
      "programado\n",
      "Hola, estoy hablando un poco\n"
     ]
    }
   ],
   "source": [
    "class Persona:\n",
    "    def __init__(self,nombre,edad,nacionalidad):\n",
    "        self.nombre = nombre\n",
    "        self.edad = edad\n",
    "        self.nacionalidad = nacionalidad\n",
    "\n",
    "    # metodo o accion persona habla\n",
    "    def hablar(self):\n",
    "        print('Hola, estoy hablando un poco')\n",
    "\n",
    "# para la erencia pasamos como parametro la clase\n",
    "class Empleado(Persona):\n",
    "    def __init__(self,nombre,edad,nacionalidad,trabajo,salario):\n",
    "        super().__init__(nombre,edad,nacionalidad)\n",
    "        self.trabajo = trabajo\n",
    "        self.salario = salario\n",
    "\n",
    "roberto = Empleado('Roberto',43,'colombiano','programado',20000)\n",
    "print(roberto.nacionalidad)\n",
    "print(roberto.edad)\n",
    "print(roberto.nombre)\n",
    "print(roberto.salario)\n",
    "print(roberto.trabajo)\n",
    "\n",
    "roberto.hablar()"
   ]
  },
  {
   "cell_type": "markdown",
   "metadata": {},
   "source": [
    "Herencia jeractica"
   ]
  },
  {
   "cell_type": "code",
   "execution_count": null,
   "metadata": {},
   "outputs": [],
   "source": [
    "class Persona:\n",
    "    def __init__(self,nombre,edad,nacionalidad):\n",
    "        self.nombre = nombre\n",
    "        self.edad = edad\n",
    "        self.nacionalidad = nacionalidad\n",
    "\n",
    "    # metodo o accion persona habla\n",
    "    def hablar(self):\n",
    "        print('Hola, estoy hablando un poco')\n",
    "\n",
    "# para la erencia pasamos como parametro la clase\n",
    "class Empleado(Persona):\n",
    "    def __init__(self,nombre,edad,nacionalidad,trabajo,salario):\n",
    "        super().__init__(nombre,edad,nacionalidad)\n",
    "        self.trabajo = trabajo\n",
    "        self.salario = salario\n",
    "\n",
    "class Estudiante(Persona):\n",
    "    def __init__(self, nombre, edad, nacionalidad,notas,universidad):\n",
    "        super().__init__(nombre, edad, nacionalidad)\n",
    "        self.notas = notas\n",
    "        self.univertsidad = universidad\n",
    "\n",
    "roberto = Empleado('Roberto',43,'colombiano','programado',20000)\n",
    "print(roberto.nacionalidad)\n",
    "print(roberto.edad)\n",
    "print(roberto.nombre)\n",
    "print(roberto.salario)\n",
    "print(roberto.trabajo)\n",
    "\n",
    "roberto.hablar()"
   ]
  },
  {
   "cell_type": "markdown",
   "metadata": {},
   "source": [
    "Herencia multiple"
   ]
  },
  {
   "cell_type": "code",
   "execution_count": 7,
   "metadata": {},
   "outputs": [
    {
     "name": "stdout",
     "output_type": "stream",
     "text": [
      "colombiano\n",
      "43\n",
      "Roberto\n",
      "1000\n",
      "Cootep\n",
      "Mi habilidad es: Cantar\n",
      "True\n",
      "(<__main__.EmpleadoArtista object at 0x7fdc233c62d0>, <class '__main__.Artista'>)\n"
     ]
    }
   ],
   "source": [
    "class Persona:\n",
    "    def __init__(self,nombre,edad,nacionalidad):\n",
    "        self.nombre = nombre\n",
    "        self.edad = edad\n",
    "        self.nacionalidad = nacionalidad\n",
    "\n",
    "    # metodo o accion persona habla\n",
    "    def hablar(self):\n",
    "        print('Hola, estoy hablando un poco')\n",
    "\n",
    "# para la erencia pasamos como parametro la clase\n",
    "class Artista():\n",
    "    def __init__(self,habilidad):\n",
    "        self.habilidad = habilidad\n",
    "\n",
    "    def mostrar_habilidad(self):\n",
    "        print(f'Mi habilidad es: {self.habilidad}')\n",
    "\n",
    "class EmpleadoArtista(Persona, Artista):\n",
    "    def __init__(self, nombre, edad, nacionalidad,habilidad,salario,empresa):\n",
    "        Persona.__init__(self,nombre, edad, nacionalidad)\n",
    "        Artista.__init__(self,habilidad)\n",
    "        self.salario = salario\n",
    "        self.empresa = empresa\n",
    "\n",
    "    def presentarse(self):\n",
    "        return f'Hola soy: {self.nombre}, {self.mostrar_habilidad()} y trabajo en {self.empresa}'\n",
    "\n",
    "\n",
    "roberto = EmpleadoArtista('Roberto',43,'colombiano','Cantar',1000,'Cootep')\n",
    "print(roberto.nacionalidad)\n",
    "print(roberto.edad)\n",
    "print(roberto.nombre)\n",
    "print(roberto.salario)\n",
    "print(roberto.empresa)\n",
    "\n",
    "roberto.presentarse()\n",
    "\n",
    "herencia = issubclass(EmpleadoArtista, Persona)\n",
    "print(herencia)\n",
    "\n",
    "instancia = (roberto, Artista)\n",
    "print(instancia)\n"
   ]
  }
 ],
 "metadata": {
  "kernelspec": {
   "display_name": "env",
   "language": "python",
   "name": "python3"
  },
  "language_info": {
   "codemirror_mode": {
    "name": "ipython",
    "version": 3
   },
   "file_extension": ".py",
   "mimetype": "text/x-python",
   "name": "python",
   "nbconvert_exporter": "python",
   "pygments_lexer": "ipython3",
   "version": "3.11.4"
  },
  "orig_nbformat": 4
 },
 "nbformat": 4,
 "nbformat_minor": 2
}
