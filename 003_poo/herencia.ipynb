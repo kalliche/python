{
 "cells": [
  {
   "cell_type": "markdown",
   "metadata": {},
   "source": [
    "Herencia simple"
   ]
  },
  {
   "cell_type": "code",
   "execution_count": 8,
   "metadata": {},
   "outputs": [
    {
     "name": "stdout",
     "output_type": "stream",
     "text": [
      "colombiano\n",
      "43\n",
      "Roberto\n",
      "20000\n",
      "programado\n",
      "Hola, estoy hablando un poco\n"
     ]
    }
   ],
   "source": [
    "class Persona:\n",
    "    def __init__(self,nombre,edad,nacionalidad):\n",
    "        self.nombre = nombre\n",
    "        self.edad = edad\n",
    "        self.nacionalidad = nacionalidad\n",
    "\n",
    "    # metodo o accion persona habla\n",
    "    def hablar(self):\n",
    "        print('Hola, estoy hablando un poco')\n",
    "\n",
    "# para la erencia pasamos como parametro la clase\n",
    "class Empleado(Persona):\n",
    "    def __init__(self,nombre,edad,nacionalidad,trabajo,salario):\n",
    "        super().__init__(nombre,edad,nacionalidad)\n",
    "        self.trabajo = trabajo\n",
    "        self.salario = salario\n",
    "\n",
    "roberto = Empleado('Roberto',43,'colombiano','programado',20000)\n",
    "print(roberto.nacionalidad)\n",
    "print(roberto.edad)\n",
    "print(roberto.nombre)\n",
    "print(roberto.salario)\n",
    "print(roberto.trabajo)\n",
    "\n",
    "roberto.hablar()"
   ]
  },
  {
   "cell_type": "markdown",
   "metadata": {},
   "source": [
    "Herencia jeractica"
   ]
  },
  {
   "cell_type": "code",
   "execution_count": null,
   "metadata": {},
   "outputs": [],
   "source": [
    "class Persona:\n",
    "    def __init__(self,nombre,edad,nacionalidad):\n",
    "        self.nombre = nombre\n",
    "        self.edad = edad\n",
    "        self.nacionalidad = nacionalidad\n",
    "\n",
    "    # metodo o accion persona habla\n",
    "    def hablar(self):\n",
    "        print('Hola, estoy hablando un poco')\n",
    "\n",
    "# para la erencia pasamos como parametro la clase\n",
    "class Empleado(Persona):\n",
    "    def __init__(self,nombre,edad,nacionalidad,trabajo,salario):\n",
    "        super().__init__(nombre,edad,nacionalidad)\n",
    "        self.trabajo = trabajo\n",
    "        self.salario = salario\n",
    "\n",
    "class Estudiante(Persona):\n",
    "    def __init__(self, nombre, edad, nacionalidad,notas,universidad):\n",
    "        super().__init__(nombre, edad, nacionalidad)\n",
    "        self.notas = notas\n",
    "        self.univertsidad = universidad\n",
    "\n",
    "roberto = Empleado('Roberto',43,'colombiano','programado',20000)\n",
    "print(roberto.nacionalidad)\n",
    "print(roberto.edad)\n",
    "print(roberto.nombre)\n",
    "print(roberto.salario)\n",
    "print(roberto.trabajo)\n",
    "\n",
    "roberto.hablar()"
   ]
  },
  {
   "cell_type": "markdown",
   "metadata": {},
   "source": [
    "Herencia multiple"
   ]
  },
  {
   "cell_type": "code",
   "execution_count": null,
   "metadata": {},
   "outputs": [],
   "source": [
    "class Persona:\n",
    "    def __init__(self,nombre,edad,nacionalidad):\n",
    "        self.nombre = nombre\n",
    "        self.edad = edad\n",
    "        self.nacionalidad = nacionalidad\n",
    "\n",
    "    # metodo o accion persona habla\n",
    "    def hablar(self):\n",
    "        print('Hola, estoy hablando un poco')\n",
    "\n",
    "# para la erencia pasamos como parametro la clase\n",
    "class Empleado(Persona):\n",
    "    def __init__(self,nombre,edad,nacionalidad,trabajo,salario):\n",
    "        super().__init__(nombre,edad,nacionalidad)\n",
    "        self.trabajo = trabajo\n",
    "        self.salario = salario\n",
    "\n",
    "class Estudiante(Persona):\n",
    "    def __init__(self, nombre, edad, nacionalidad,notas,universidad):\n",
    "        super().__init__(nombre, edad, nacionalidad)\n",
    "        self.notas = notas\n",
    "        self.univertsidad = universidad\n",
    "\n",
    "class PersonaNormal(Empleado, Estudiante)\n",
    "\n",
    "roberto = Empleado('Roberto',43,'colombiano','programado',20000)\n",
    "print(roberto.nacionalidad)\n",
    "print(roberto.edad)\n",
    "print(roberto.nombre)\n",
    "print(roberto.salario)\n",
    "print(roberto.trabajo)\n",
    "\n",
    "roberto.hablar()"
   ]
  }
 ],
 "metadata": {
  "kernelspec": {
   "display_name": "env",
   "language": "python",
   "name": "python3"
  },
  "language_info": {
   "codemirror_mode": {
    "name": "ipython",
    "version": 3
   },
   "file_extension": ".py",
   "mimetype": "text/x-python",
   "name": "python",
   "nbconvert_exporter": "python",
   "pygments_lexer": "ipython3",
   "version": "3.11.4"
  },
  "orig_nbformat": 4
 },
 "nbformat": 4,
 "nbformat_minor": 2
}
