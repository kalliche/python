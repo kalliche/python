{
 "cells": [
  {
   "cell_type": "code",
   "execution_count": 8,
   "metadata": {},
   "outputs": [
    {
     "name": "stdout",
     "output_type": "stream",
     "text": [
      "Estas haciendo una llamada desde un: S23\n",
      "Cortaste lallamada desde tu: S23\n",
      "Estas haciendo una llamada desde un: Iphone 15 pro\n",
      "Cortaste lallamada desde tu: Iphone 15 pro\n"
     ]
    }
   ],
   "source": [
    "class Celular:\n",
    "    def __init__(self, marca, modelo, camara) -> None:\n",
    "        self.marca = marca\n",
    "        self.modelo = modelo\n",
    "        self.camara = camara\n",
    "\n",
    "    def llamar(self):\n",
    "        print(f'Estas haciendo una llamada desde un: {self.modelo}')\n",
    "\n",
    "    def cortar(self):\n",
    "        print(f'Cortaste lallamada desde tu: {self.modelo}')\n",
    "\n",
    "celular1 = Celular('Samsung', 'S23', '40px')\n",
    "celular2 = Celular('Apple', 'Iphone 15 pro', '96px')\n",
    "\n",
    "#print(celular2.marca)\n",
    "#print(celular1.marca)\n",
    "celular1.llamar()\n",
    "celular1.cortar()\n",
    "\n",
    "celular2.llamar()\n",
    "celular2.cortar()"
   ]
  }
 ],
 "metadata": {
  "kernelspec": {
   "display_name": "env",
   "language": "python",
   "name": "python3"
  },
  "language_info": {
   "codemirror_mode": {
    "name": "ipython",
    "version": 3
   },
   "file_extension": ".py",
   "mimetype": "text/x-python",
   "name": "python",
   "nbconvert_exporter": "python",
   "pygments_lexer": "ipython3",
   "version": "3.11.4"
  },
  "orig_nbformat": 4
 },
 "nbformat": 4,
 "nbformat_minor": 2
}
