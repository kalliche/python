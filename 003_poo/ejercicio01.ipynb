{
 "cells": [
  {
   "cell_type": "code",
   "execution_count": null,
   "metadata": {},
   "outputs": [],
   "source": [
    "class Estudiante:\n",
    "    def __init__(self, nombre, edad, grado) -> None:\n",
    "        self.nombre = nombre\n",
    "        self.edad = edad\n",
    "        self.grado = grado\n",
    "\n",
    "pedro = Estudiante('Pedro',23,3)\n",
    "print(pedro.grado)"
   ]
  },
  {
   "cell_type": "markdown",
   "metadata": {},
   "source": [
    "ejercicio 1.2"
   ]
  },
  {
   "cell_type": "code",
   "execution_count": 8,
   "metadata": {},
   "outputs": [
    {
     "name": "stdout",
     "output_type": "stream",
     "text": [
      "\n",
      "    DATOS DEL ESTUDIANTE: \n",
      "\n",
      "    Nombre: Carlos\n",
      "    Edad: 36\n",
      "    Grado: 5\n",
      "\n",
      "estudiando...\n"
     ]
    }
   ],
   "source": [
    "class Estudiante:\n",
    "    def __init__(self, nombre, edad, grado) -> None:\n",
    "        self.nombre = nombre\n",
    "        self.edad = edad\n",
    "        self.grado = grado\n",
    "\n",
    "    def estudiar(self):\n",
    "        print('estudiando...')\n",
    "\n",
    "nombre = input('Digame su nombre: ')\n",
    "edad = input('Ahora su edad: ')\n",
    "grado = input('Por ultimo, su grado: ')\n",
    "\n",
    "estudiante = Estudiante(nombre, edad, grado)\n",
    "\n",
    "print(f'''\n",
    "    DATOS DEL ESTUDIANTE: \\n\n",
    "    Nombre: {estudiante.nombre}\n",
    "    Edad: {estudiante.edad}\n",
    "    Grado: {estudiante.grado}\n",
    "''')\n",
    "\n",
    "\n",
    "estudiar = input()\n",
    "if (estudiar.lower() == 'estudiar'):\n",
    "    estudiante.estudiar()"
   ]
  }
 ],
 "metadata": {
  "kernelspec": {
   "display_name": "env",
   "language": "python",
   "name": "python3"
  },
  "language_info": {
   "codemirror_mode": {
    "name": "ipython",
    "version": 3
   },
   "file_extension": ".py",
   "mimetype": "text/x-python",
   "name": "python",
   "nbconvert_exporter": "python",
   "pygments_lexer": "ipython3",
   "version": "3.11.4"
  },
  "orig_nbformat": 4
 },
 "nbformat": 4,
 "nbformat_minor": 2
}
