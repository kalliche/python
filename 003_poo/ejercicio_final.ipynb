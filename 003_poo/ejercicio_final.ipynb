{
 "cells": [
  {
   "cell_type": "markdown",
   "metadata": {},
   "source": [
    "Chatboot analizador de sentimientos\n",
    "En este proyecto, podrias desarrollar un charboot en python, que nos pida que le digamos algo y tome eso que le decimos, analice el sentimeinto y nos responda cual es el sentimiento.\n",
    "\n",
    "Este proyecto te daria la oportunidad de trabajar con varios aspectos de la programación Orientada a Objetos (POO), modulos, API, analisis de datos, etc..."
   ]
  },
  {
   "cell_type": "code",
   "execution_count": 2,
   "metadata": {},
   "outputs": [
    {
     "name": "stdout",
     "output_type": "stream",
     "text": [
      "nuetral\n"
     ]
    }
   ],
   "source": [
    "import openiap"
   ]
  }
 ],
 "metadata": {
  "kernelspec": {
   "display_name": "env",
   "language": "python",
   "name": "python3"
  },
  "language_info": {
   "codemirror_mode": {
    "name": "ipython",
    "version": 3
   },
   "file_extension": ".py",
   "mimetype": "text/x-python",
   "name": "python",
   "nbconvert_exporter": "python",
   "pygments_lexer": "ipython3",
   "version": "3.11.4"
  },
  "orig_nbformat": 4
 },
 "nbformat": 4,
 "nbformat_minor": 2
}
