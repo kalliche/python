{
 "cells": [
  {
   "cell_type": "code",
   "execution_count": 2,
   "metadata": {},
   "outputs": [
    {
     "name": "stdout",
     "output_type": "stream",
     "text": [
      "Antes de llamara a la funcion\n",
      "Hola dalto como estas\n",
      "Despues de llamar a la funcion\n"
     ]
    }
   ],
   "source": [
    "def decorador(funcion):\n",
    "    def funcion_modificada():\n",
    "        print('Antes de llamara a la funcion')\n",
    "        funcion()\n",
    "        print('Despues de llamar a la funcion')\n",
    "    return funcion_modificada\n",
    "\n",
    "# def saludo():\n",
    "#     print('Hola Carlos como estas')\n",
    "\n",
    "# saludo_modificado = decorador(saludo)\n",
    "# saludo_modificado()\n",
    "# el codigo anterios se resume al siguiente codigo copn la palabra reservada\n",
    "\n",
    "@decorador\n",
    "def saludo():\n",
    "    print('Hola dalto como estas')\n",
    "saludo()\n"
   ]
  }
 ],
 "metadata": {
  "kernelspec": {
   "display_name": "env",
   "language": "python",
   "name": "python3"
  },
  "language_info": {
   "codemirror_mode": {
    "name": "ipython",
    "version": 3
   },
   "file_extension": ".py",
   "mimetype": "text/x-python",
   "name": "python",
   "nbconvert_exporter": "python",
   "pygments_lexer": "ipython3",
   "version": "3.11.4"
  },
  "orig_nbformat": 4
 },
 "nbformat": 4,
 "nbformat_minor": 2
}
