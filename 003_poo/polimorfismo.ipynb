{
 "cells": [
  {
   "cell_type": "code",
   "execution_count": 2,
   "metadata": {},
   "outputs": [
    {
     "name": "stdout",
     "output_type": "stream",
     "text": [
      "Guauu\n",
      "Miau\n",
      "---------------\n",
      "Guauu\n",
      "Miau\n"
     ]
    }
   ],
   "source": [
    "class Gato():\n",
    "    def sonido(self):\n",
    "        return 'Miau'\n",
    "\n",
    "class Perro():\n",
    "    def sonido(self):\n",
    "        return 'Guauu'\n",
    "\n",
    "# objetos\n",
    "gato = Gato()\n",
    "perro = Perro()\n",
    "\n",
    "print(perro.sonido())\n",
    "print(gato.sonido())\n",
    "\n",
    "print('---'*5)\n",
    "\n",
    "# otra manera de polimofismo\n",
    "def hacer_sonido(animal):\n",
    "    print(animal.sonido())\n",
    "\n",
    "hacer_sonido(perro)\n",
    "hacer_sonido(gato)"
   ]
  },
  {
   "cell_type": "markdown",
   "metadata": {},
   "source": [
    "Polimorfismo por herencia"
   ]
  },
  {
   "cell_type": "code",
   "execution_count": null,
   "metadata": {},
   "outputs": [],
   "source": []
  }
 ],
 "metadata": {
  "kernelspec": {
   "display_name": "env",
   "language": "python",
   "name": "python3"
  },
  "language_info": {
   "codemirror_mode": {
    "name": "ipython",
    "version": 3
   },
   "file_extension": ".py",
   "mimetype": "text/x-python",
   "name": "python",
   "nbconvert_exporter": "python",
   "pygments_lexer": "ipython3",
   "version": "3.11.4"
  },
  "orig_nbformat": 4
 },
 "nbformat": 4,
 "nbformat_minor": 2
}
