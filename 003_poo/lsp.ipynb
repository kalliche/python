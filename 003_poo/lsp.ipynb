{
 "cells": [
  {
   "cell_type": "markdown",
   "metadata": {},
   "source": [
    "liskov's substitution principle"
   ]
  },
  {
   "cell_type": "code",
   "execution_count": null,
   "metadata": {},
   "outputs": [],
   "source": [
    "class Ave:\n",
    "    def volar(self):\n",
    "        return 'Estoy volando'\n",
    "\n",
    "# sub clase por que hereda\n",
    "class Pinguino(Ave):\n",
    "    def volar(self):\n",
    "        return 'No puedo volar'\n",
    "\n",
    "def hacer_volar(ave = Ave):\n",
    "    return ave.volar()\n",
    "\n",
    "print(hacer_volar(Pinguino()))"
   ]
  },
  {
   "cell_type": "markdown",
   "metadata": {},
   "source": [
    "Toda sub clase debe hacer lo de la clase conrtenedora"
   ]
  },
  {
   "cell_type": "code",
   "execution_count": null,
   "metadata": {},
   "outputs": [],
   "source": [
    "class Ave:\n",
    "    pass\n",
    "\n",
    "class AveVoladora(Ave):\n",
    "    def volar(delf):\n",
    "        return \"Estoy volando\"\n",
    "\n",
    "class AveNoVoladora(Ave):\n",
    "    pass"
   ]
  }
 ],
 "metadata": {
  "language_info": {
   "name": "python"
  },
  "orig_nbformat": 4
 },
 "nbformat": 4,
 "nbformat_minor": 2
}
