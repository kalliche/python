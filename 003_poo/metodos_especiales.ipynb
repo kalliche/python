{
 "cells": [
  {
   "cell_type": "code",
   "execution_count": 2,
   "metadata": {},
   "outputs": [
    {
     "name": "stdout",
     "output_type": "stream",
     "text": [
      "Persona(nombre=Lucas, edad=21)\n",
      "--------------------\n"
     ]
    }
   ],
   "source": [
    "class Persona:\n",
    "    def __init__(self,nombre,edad):\n",
    "        self.nombre = nombre\n",
    "        self.edad = edad\n",
    "\n",
    "    def __str__(self) -> str:\n",
    "        return f'Persona(nombre={self.nombre}, edad={self.edad})'\n",
    "\n",
    "    def __repr__(self) -> str:\n",
    "        return f'Persona(\"{self.nombre}\",{self.edad})'\n",
    "\n",
    "dalto = Persona('Lucas',21)\n",
    "print(dalto)\n",
    "\n",
    "print('--'*10)"
   ]
  }
 ],
 "metadata": {
  "kernelspec": {
   "display_name": "env",
   "language": "python",
   "name": "python3"
  },
  "language_info": {
   "codemirror_mode": {
    "name": "ipython",
    "version": 3
   },
   "file_extension": ".py",
   "mimetype": "text/x-python",
   "name": "python",
   "nbconvert_exporter": "python",
   "pygments_lexer": "ipython3",
   "version": "3.11.4"
  },
  "orig_nbformat": 4
 },
 "nbformat": 4,
 "nbformat_minor": 2
}
