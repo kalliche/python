{
 "cells": [
  {
   "cell_type": "code",
   "execution_count": 13,
   "metadata": {},
   "outputs": [
    {
     "name": "stdout",
     "output_type": "stream",
     "text": [
      "Persona(nombre=Lucas, edad=21)\n",
      "--------------------\n",
      "Persona(nombre=Lucas, edad=21)\n",
      "Lucas\n",
      "21\n",
      "--------------------\n",
      "lucasPedromaria\n",
      "69\n"
     ]
    }
   ],
   "source": [
    "class Persona:\n",
    "    def __init__(self,nombre,edad):\n",
    "        self.nombre = nombre\n",
    "        self.edad = edad\n",
    "\n",
    "    def __str__(self) -> str:\n",
    "        return f'Persona(nombre={self.nombre}, edad={self.edad})'\n",
    "\n",
    "    def __repr__(self) -> str:\n",
    "        return f'Persona(\"{self.nombre}\",{self.edad})'\n",
    "\n",
    "    def __add__(self,otro):\n",
    "        nuevo_valor = self.edad + otro.edad\n",
    "        return Persona(self.nombre+otro.nombre,nuevo_valor)\n",
    "\n",
    "\n",
    "dalto = Persona('Lucas',21)\n",
    "print(dalto)\n",
    "\n",
    "print('--'*10)\n",
    "repre = repr(dalto)\n",
    "resultado = eval(repre)\n",
    "print(resultado)\n",
    "print(resultado.nombre)\n",
    "print(resultado.edad)\n",
    "\n",
    "print('--'*10)\n",
    "dalto = Persona('lucas',21)\n",
    "pedro = Persona('Pedro',30)\n",
    "maria = Persona('maria',18)\n",
    "nueva_persona = dalto + pedro + maria\n",
    "print(nueva_persona.nombre)\n",
    "print(nueva_persona.edad)\n",
    "\n"
   ]
  }
 ],
 "metadata": {
  "kernelspec": {
   "display_name": "env",
   "language": "python",
   "name": "python3"
  },
  "language_info": {
   "codemirror_mode": {
    "name": "ipython",
    "version": 3
   },
   "file_extension": ".py",
   "mimetype": "text/x-python",
   "name": "python",
   "nbconvert_exporter": "python",
   "pygments_lexer": "ipython3",
   "version": "3.11.4"
  },
  "orig_nbformat": 4
 },
 "nbformat": 4,
 "nbformat_minor": 2
}
