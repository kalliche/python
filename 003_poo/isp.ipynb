{
 "cells": [
  {
   "cell_type": "code",
   "execution_count": 3,
   "metadata": {},
   "outputs": [
    {
     "name": "stdout",
     "output_type": "stream",
     "text": [
      "El robot esta trabajando\n",
      "El humano esta trabajando\n",
      "El humano esta comiendo\n"
     ]
    }
   ],
   "source": [
    "from abc import ABC, abstractmethod\n",
    "\n",
    "class Trabajador(ABC):\n",
    "    @abstractmethod\n",
    "    def trabajar(self):\n",
    "        pass\n",
    "\n",
    "class Comedor(ABC):\n",
    "    @abstractmethod\n",
    "    def comer(self):\n",
    "        pass\n",
    "\n",
    "class Durmiente(ABC):\n",
    "    @abstractmethod\n",
    "    def dormir(self):\n",
    "        pass\n",
    "\n",
    "class Humano(Trabajador, Durmiente, Comedor):\n",
    "    def comer(self):\n",
    "        print('El humano esta comiendo')\n",
    "\n",
    "    def trabajar(self):\n",
    "        print('El humano esta trabajando')\n",
    "\n",
    "    def dormir(self):\n",
    "        print('El humano esta durmiendo')\n",
    "\n",
    "class Robot(Trabajador):\n",
    "    def trabajar(self):\n",
    "        print('El robot esta trabajando')\n",
    "\n",
    "robot = Robot()\n",
    "robot.trabajar()\n",
    "\n",
    "humano = Humano()\n",
    "humano.trabajar()\n",
    "humano.comer()"
   ]
  }
 ],
 "metadata": {
  "kernelspec": {
   "display_name": "env",
   "language": "python",
   "name": "python3"
  },
  "language_info": {
   "codemirror_mode": {
    "name": "ipython",
    "version": 3
   },
   "file_extension": ".py",
   "mimetype": "text/x-python",
   "name": "python",
   "nbconvert_exporter": "python",
   "pygments_lexer": "ipython3",
   "version": "3.11.4"
  },
  "orig_nbformat": 4
 },
 "nbformat": 4,
 "nbformat_minor": 2
}
