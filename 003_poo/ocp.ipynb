{
 "cells": [
  {
   "cell_type": "code",
   "execution_count": null,
   "metadata": {},
   "outputs": [],
   "source": [
    "class Notificador:\n",
    "    def __init__(self,usuario,mensaje):\n",
    "        self.usuario = usuario\n",
    "        self.mensaje = mensaje\n",
    "\n",
    "    def notificar(self):\n",
    "        raise NotImplementedError\n",
    "\n",
    "class NotificadorEmail(Notificador):\n",
    "    def Notificar(self):\n",
    "        print(f'Enviando mensajes por MAEL a {self.usuario.email}')\n",
    "\n",
    "class NotificadorSMS(Notificador):\n",
    "    def notificar(self):\n",
    "        print(f'Enviando SMS a {self.usuario.sms}')\n",
    "\n"
   ]
  }
 ],
 "metadata": {
  "language_info": {
   "name": "python"
  },
  "orig_nbformat": 4
 },
 "nbformat": 4,
 "nbformat_minor": 2
}
