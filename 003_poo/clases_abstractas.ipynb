{
 "cells": [
  {
   "cell_type": "markdown",
   "metadata": {},
   "source": [
    "Clases abstractas crear clases a partir de esa plantilla"
   ]
  },
  {
   "cell_type": "code",
   "execution_count": 6,
   "metadata": {},
   "outputs": [
    {
     "name": "stdout",
     "output_type": "stream",
     "text": [
      "Hola, me llamo: lucas y tengo 21 años\n",
      "Estoy estudiando: programacion\n",
      "--------------------\n",
      "Hola, me llamo: simon y tengo 30 años\n",
      "Actualmente estoy trabajando en el rubro de: programacion\n"
     ]
    }
   ],
   "source": [
    "from abc import ABC, abstractclassmethod\n",
    "\n",
    "class Persona(ABC):\n",
    "    @abstractclassmethod\n",
    "    def __init__(self,nombre,edad,sexo,activcidad):\n",
    "        self.nombre = nombre\n",
    "        self.edad = edad\n",
    "        self.sexo = sexo\n",
    "        self.actividad = activcidad\n",
    "\n",
    "    @abstractclassmethod\n",
    "    def hacer_actividad(self):\n",
    "        pass\n",
    "\n",
    "    def presentarse(self):\n",
    "        print(f'Hola, me llamo: {self.nombre} y tengo {self.edad} años')\n",
    "\n",
    "class Estudiante(Persona):\n",
    "    def __init__(self,nombre,edad,sexo,actividad):\n",
    "        super().__init__(nombre,edad,sexo,actividad)\n",
    "\n",
    "    def hacer_actividad(self):\n",
    "        print(f'Estoy estudiando: {self.actividad}')\n",
    "\n",
    "class Trabajador(Persona):\n",
    "    def __init__(self,nombre,edad,sexo,actividad):\n",
    "        super().__init__(nombre,edad,sexo,actividad)\n",
    "\n",
    "    def hacer_actividad(self):\n",
    "        print(f'Actualmente estoy trabajando en el rubro de: {self.actividad}')\n",
    "\n",
    "dalto = Estudiante('lucas',21,'masculino','programacion')\n",
    "dalto.presentarse()\n",
    "dalto.hacer_actividad()\n",
    "\n",
    "print('--'*10)\n",
    "pedro = Trabajador('simon',30,'masculino','programacion')\n",
    "pedro.presentarse()\n",
    "pedro.hacer_actividad()"
   ]
  }
 ],
 "metadata": {
  "kernelspec": {
   "display_name": "env",
   "language": "python",
   "name": "python3"
  },
  "language_info": {
   "codemirror_mode": {
    "name": "ipython",
    "version": 3
   },
   "file_extension": ".py",
   "mimetype": "text/x-python",
   "name": "python",
   "nbconvert_exporter": "python",
   "pygments_lexer": "ipython3",
   "version": "3.11.4"
  },
  "orig_nbformat": 4
 },
 "nbformat": 4,
 "nbformat_minor": 2
}
