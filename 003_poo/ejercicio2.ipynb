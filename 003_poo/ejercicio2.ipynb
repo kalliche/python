{
 "cells": [
  {
   "cell_type": "markdown",
   "metadata": {},
   "source": [
    "Hejercicio de herencia y uso de super:\n",
    "Crear un sistema para una escuela. En este sistema, vamos a tener dos clases principales: Persona y Estudiante. la clase Persona tendrá los atributos de nombre y edad y un método que imprima el nombre y la edad de la persona. La clase de Estudiante heredará de la clase Persona y tambien tendrá un atributo adicional: grado y un metodo que imprima el grado del estudiante.\n",
    "\n",
    "Deberás utilizar super en el método de inicialización (init) para reutilizaer el código de la clase padre (Persona). luego crea una instancia dfe la clase Estudiante e imprime sus atributos y utiliza sus métodos para asegurarte de que todo funciona correctamente"
   ]
  },
  {
   "cell_type": "code",
   "execution_count": 1,
   "metadata": {},
   "outputs": [
    {
     "name": "stdout",
     "output_type": "stream",
     "text": [
      "Nombre: Carlos\n",
      "Edad: 36\n",
      "Grado: 4 semestre\n"
     ]
    }
   ],
   "source": [
    "class Persona:\n",
    "    def __init__(self,nombre,edad):\n",
    "        self.nombre = nombre\n",
    "        self.edad = edad\n",
    "\n",
    "    def mostrar_datos(self):\n",
    "        print(f'Nombre: {self.nombre}')\n",
    "        print(f'Edad: {self.edad}')\n",
    "\n",
    "class Estudiante(Persona):\n",
    "    def __init__(self,nombre,edad,grado):\n",
    "        super().__init__(nombre,edad)\n",
    "        self.grado = grado\n",
    "\n",
    "    def mostrar_grado(self):\n",
    "        print(f'Grado: {self.grado}')\n",
    "\n",
    "estudiante = Estudiante('Carlos',36,'4 semestre')\n",
    "estudiante.mostrar_datos()\n",
    "estudiante.mostrar_grado()"
   ]
  },
  {
   "cell_type": "code",
   "execution_count": 7,
   "metadata": {},
   "outputs": [
    {
     "name": "stdout",
     "output_type": "stream",
     "text": [
      "El animal esta comiendo\n",
      "El animal está amamantando\n",
      "El animal esta volando\n",
      "------------------\n",
      "El animal esta volando\n",
      "El animal esta comiendo\n",
      "------------------\n",
      "[<class '__main__.Murcielago'>, <class '__main__.Mamifero'>, <class '__main__.Ave'>, <class '__main__.Animal'>, <class 'object'>]\n",
      "[<class '__main__.Ave'>, <class '__main__.Animal'>, <class 'object'>]\n",
      "[<class '__main__.Mamifero'>, <class '__main__.Animal'>, <class 'object'>]\n"
     ]
    }
   ],
   "source": [
    "class Animal:\n",
    "    def comer(self):\n",
    "        print('El animal esta comiendo')\n",
    "\n",
    "class Ave(Animal):\n",
    "    def volar(self):\n",
    "        print('El animal esta volando')\n",
    "\n",
    "class Mamifero(Animal):\n",
    "    def amamantar(self):\n",
    "        print('El animal está amamantando')\n",
    "\n",
    "class Murcielago(Mamifero, Ave):\n",
    "    pass\n",
    "\n",
    "murcielago = Murcielago()\n",
    "\n",
    "murcielago.comer()\n",
    "murcielago.amamantar()\n",
    "murcielago.volar()\n",
    "\n",
    "print('--'*9)\n",
    "\n",
    "ave = Ave()\n",
    "ave.volar()\n",
    "ave.comer()\n",
    "\n",
    "print('--'*9)\n",
    "\n",
    "print(Murcielago.mro())\n",
    "print(Ave.mro())\n",
    "print(Mamifero.mro())"
   ]
  }
 ],
 "metadata": {
  "kernelspec": {
   "display_name": "env",
   "language": "python",
   "name": "python3"
  },
  "language_info": {
   "codemirror_mode": {
    "name": "ipython",
    "version": 3
   },
   "file_extension": ".py",
   "mimetype": "text/x-python",
   "name": "python",
   "nbconvert_exporter": "python",
   "pygments_lexer": "ipython3",
   "version": "3.11.4"
  },
  "orig_nbformat": 4
 },
 "nbformat": 4,
 "nbformat_minor": 2
}
