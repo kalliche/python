{
 "cells": [
  {
   "cell_type": "markdown",
   "metadata": {},
   "source": [
    "Ocultar la compejidad, como el codigo anterior el user final corre el metodo conducir pero no mira las funciones que intervienen antes para ejecutrar la funcion de conducir"
   ]
  },
  {
   "cell_type": "code",
   "execution_count": 3,
   "metadata": {},
   "outputs": [
    {
     "name": "stdout",
     "output_type": "stream",
     "text": [
      "conducir auto\n"
     ]
    }
   ],
   "source": [
    "class Auto():\n",
    "    def __init__(self):\n",
    "        self._estado = 'apadago'\n",
    "\n",
    "    def encender(self):\n",
    "        self._estado = 'encendido'\n",
    "        print('El auto esta encendido')\n",
    "\n",
    "    def conducir(self):\n",
    "        if self._estado == 'apagado':\n",
    "            self.encender()\n",
    "        print('conducir auto')\n",
    "\n",
    "mi_auto = Auto()\n",
    "mi_auto.conducir()"
   ]
  }
 ],
 "metadata": {
  "kernelspec": {
   "display_name": "env",
   "language": "python",
   "name": "python3"
  },
  "language_info": {
   "codemirror_mode": {
    "name": "ipython",
    "version": 3
   },
   "file_extension": ".py",
   "mimetype": "text/x-python",
   "name": "python",
   "nbconvert_exporter": "python",
   "pygments_lexer": "ipython3",
   "version": "3.11.4"
  },
  "orig_nbformat": 4
 },
 "nbformat": 4,
 "nbformat_minor": 2
}
