{
 "cells": [
  {
   "cell_type": "code",
   "execution_count": 4,
   "metadata": {},
   "outputs": [
    {
     "name": "stdout",
     "output_type": "stream",
     "text": [
      "Hola desde D\n",
      "[<class '__main__.D'>, <class '__main__.B'>, <class '__main__.C'>, <class '__main__.A'>, <class 'object'>]\n",
      "Hola desde C\n",
      "Hola desde D\n"
     ]
    }
   ],
   "source": [
    "class A:\n",
    "    def hablar(self):\n",
    "        print('Hola desde A')\n",
    "\n",
    "class B(A):\n",
    "    def hablar(self):\n",
    "        print('Hola desde B')\n",
    "\n",
    "class C(A):\n",
    "    def hablar(self):\n",
    "        print('Hola desde C')\n",
    "\n",
    "class D(B,C):\n",
    "    def hablar(self):\n",
    "        print('Hola desde D')\n",
    "\n",
    "d = D()\n",
    "d.hablar()\n",
    "\n",
    "print(D.mro())\n",
    "\n",
    "C.hablar(d)\n",
    "D.hablar(d)"
   ]
  }
 ],
 "metadata": {
  "kernelspec": {
   "display_name": "env",
   "language": "python",
   "name": "python3"
  },
  "language_info": {
   "codemirror_mode": {
    "name": "ipython",
    "version": 3
   },
   "file_extension": ".py",
   "mimetype": "text/x-python",
   "name": "python",
   "nbconvert_exporter": "python",
   "pygments_lexer": "ipython3",
   "version": "3.11.4"
  },
  "orig_nbformat": 4
 },
 "nbformat": 4,
 "nbformat_minor": 2
}
